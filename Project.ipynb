{
 "cells": [
  {
   "cell_type": "code",
   "execution_count": 1,
   "id": "5b22b4e7",
   "metadata": {
    "scrolled": false
   },
   "outputs": [],
   "source": [
    "#python 3.9\n",
    "import torch\n",
    "import matplotlib.pyplot as plt\n",
    "\n",
    "#GARBAGE = False\n",
    "import os\n",
    "import subprocess\n",
    "import time\n",
    "os.environ[\"KMP_DUPLICATE_LIB_OK\"] = \"TRUE\"\n",
    "os.environ[\"CUBLAS_WORKSPACE_CONFIG\"]=\":4096:2\"\n",
    "#at::Context::setDeterministicAlgorithms(true)\n",
    "\n",
    "\n",
    "from tqdm import tqdm\n",
    "from tqdm import trange\n",
    "\n",
    "from PIL import Image\n",
    "Image.MAX_IMAGE_PIXELS = 933120000"
   ]
  },
  {
   "cell_type": "code",
   "execution_count": 2,
   "id": "e1ae02d0",
   "metadata": {},
   "outputs": [
    {
     "name": "stdout",
     "output_type": "stream",
     "text": [
      "0.15.0\n",
      "2.0.0\n"
     ]
    }
   ],
   "source": [
    "import torchvision \n",
    "print(torchvision.__version__)\n",
    "print(torch.__version__)"
   ]
  },
  {
   "cell_type": "code",
   "execution_count": 3,
   "id": "9e251a94",
   "metadata": {},
   "outputs": [
    {
     "name": "stdout",
     "output_type": "stream",
     "text": [
      "2.10.1\n",
      "2.10.1\n"
     ]
    }
   ],
   "source": [
    "from tensorboard import version; print(version.VERSION)\n",
    "import tensorflow as tf; print(tf.__version__)"
   ]
  },
  {
   "cell_type": "code",
   "execution_count": 4,
   "id": "8179c372",
   "metadata": {},
   "outputs": [
    {
     "data": {
      "text/plain": [
       "True"
      ]
     },
     "execution_count": 4,
     "metadata": {},
     "output_type": "execute_result"
    }
   ],
   "source": [
    "torch.cuda.is_available() "
   ]
  },
  {
   "cell_type": "code",
   "execution_count": 5,
   "id": "c33d5c1d",
   "metadata": {},
   "outputs": [
    {
     "name": "stdout",
     "output_type": "stream",
     "text": [
      "NVIDIA GeForce RTX 2060 SUPER\n"
     ]
    }
   ],
   "source": [
    "print(torch.cuda.get_device_name(\"cuda:0\"))"
   ]
  },
  {
   "cell_type": "code",
   "execution_count": 6,
   "id": "c486b0d5",
   "metadata": {},
   "outputs": [
    {
     "name": "stdout",
     "output_type": "stream",
     "text": [
      "cuda:0\n"
     ]
    }
   ],
   "source": [
    "#тренировка модели на GPU если доступна\n",
    "device = torch.device(\"cuda:0\" if torch.cuda.is_available() else \"cpu\")\n",
    "#device = torch.device(\"cpu\")\n",
    "print(device)"
   ]
  },
  {
   "cell_type": "code",
   "execution_count": 7,
   "id": "024564fc",
   "metadata": {},
   "outputs": [],
   "source": [
    "time_start = time.strftime(\"%d %b %Y  %H:%M:%S\", time.localtime())"
   ]
  },
  {
   "cell_type": "code",
   "execution_count": 8,
   "id": "5d4e9b0e",
   "metadata": {},
   "outputs": [],
   "source": [
    "def unzip_files():\n",
    "    #FNULL = open(os.devnull, 'w') old\n",
    "    #распаковка всех файлов\n",
    "    Path = os.getcwd()\n",
    "    for zfile in tqdm([f for f in os.listdir((Path + '\\\\zip'))], ascii=True):\n",
    "        zpath = Path + '\\\\zip\\\\' + zfile\n",
    "        #tqdm.write(f\"{zfile}\")\n",
    "        pull = 'C:/Program Files/7-Zip/7z.exe x ' + zpath + ' -o\"' + Path + '\\\\unzip' + '\"'\n",
    "\n",
    "        subprocess.call(pull, stdout=subprocess.DEVNULL, stderr=subprocess.STDOUT, shell=False)"
   ]
  },
  {
   "cell_type": "code",
   "execution_count": 9,
   "id": "f35dcc94",
   "metadata": {},
   "outputs": [
    {
     "name": "stderr",
     "output_type": "stream",
     "text": [
      "100%|##################################################################################| 17/17 [00:00<00:00, 49.90it/s]\n"
     ]
    }
   ],
   "source": [
    "unzip_files()"
   ]
  },
  {
   "cell_type": "code",
   "execution_count": 10,
   "id": "264dc83c",
   "metadata": {},
   "outputs": [],
   "source": [
    "def convert_image():\n",
    "    Image.MAX_IMAGE_PIXELS = 933120000\n",
    "\n",
    "    yourpath = os.getcwd() + '\\\\unzip'\n",
    "    progress_bar = tqdm([f for f in os.listdir(yourpath) if os.path.isfile(os.path.join(yourpath, f)) == False]) #chek for files\n",
    "    for dirs in progress_bar:\n",
    "        photo = yourpath + '\\\\' + dirs + '\\\\measurement'\n",
    "        correct_image_name = dirs.lower() # чтобы create result.py  прошел правильно по отсортированному масиву 1 раз\n",
    "        #print(correct_image_name)\n",
    "        for image in [f for f in os.listdir(photo) if os.path.isfile(os.path.join(photo, f))]: #chek for files\n",
    "            #photo = os.path.join(photo, image)\n",
    "            #print(os.path.join(photo, image))\n",
    "            if \"-vv-\" in image:# там 2 изображения нужно первое\n",
    "                if os.path.isfile(os.path.splitext(os.path.join(yourpath, correct_image_name))[0] + \".jpg\"):\n",
    "                    tqdm.write(f\"A jpeg file already exists for {image}\")\n",
    "                    # If a jpeg is *NOT* present, create one from the tiff.\n",
    "                else:\n",
    "\n",
    "                    outfile = os.path.splitext(os.path.join(yourpath, correct_image_name))[0] + \".jpg\"\n",
    "\n",
    "                    try:\n",
    "                        im = Image.open(os.path.join(photo, image))\n",
    "                        tqdm.write(f\"Generating jpeg for {correct_image_name}\")\n",
    "                        if im.mode != 'RGB':\n",
    "                            im = im.convert('RGB')\n",
    "                        im.thumbnail(im.size)\n",
    "                        im.save(outfile, \"JPEG\", quality=100)\n",
    "                    except Exception as e:\n",
    "                        print(e)\n",
    "\n",
    "    #from PIL import Image\n",
    "    #img = Image.open('image.png').convert('L')\n",
    "    #img.save('greyscale.png')"
   ]
  },
  {
   "cell_type": "code",
   "execution_count": 12,
   "id": "d18cd85a",
   "metadata": {},
   "outputs": [
    {
     "name": "stderr",
     "output_type": "stream",
     "text": [
      "  0%|                                                                                           | 0/18 [00:00<?, ?it/s]"
     ]
    },
    {
     "name": "stdout",
     "output_type": "stream",
     "text": [
      "Generating jpeg for s1a_iw_grdh_1sdv_20170717t024712_20170717t024736_017505_01d444_2d47.safe\n"
     ]
    },
    {
     "name": "stderr",
     "output_type": "stream",
     "text": [
      "  6%|████▌                                                                              | 1/18 [00:12<03:25, 12.08s/it]"
     ]
    },
    {
     "name": "stdout",
     "output_type": "stream",
     "text": [
      "Generating jpeg for s1a_iw_grdh_1sdv_20170807t163947_20170807t164012_017820_01dde9_409e.safe\n"
     ]
    },
    {
     "name": "stderr",
     "output_type": "stream",
     "text": [
      " 11%|█████████▏                                                                         | 2/18 [00:26<03:30, 13.13s/it]"
     ]
    },
    {
     "name": "stdout",
     "output_type": "stream",
     "text": [
      "Generating jpeg for s1a_iw_grdh_1sdv_20170808t043959_20170808t044021_017827_01de24_6a4e.safe\n"
     ]
    },
    {
     "name": "stderr",
     "output_type": "stream",
     "text": [
      " 17%|█████████████▊                                                                     | 3/18 [00:37<03:05, 12.40s/it]"
     ]
    },
    {
     "name": "stdout",
     "output_type": "stream",
     "text": [
      "Generating jpeg for s1a_iw_grdh_1sdv_20170809t144148_20170809t144213_017848_01dec1_ec32.safe\n"
     ]
    },
    {
     "name": "stderr",
     "output_type": "stream",
     "text": [
      " 22%|██████████████████▍                                                                | 4/18 [00:51<03:00, 12.91s/it]"
     ]
    },
    {
     "name": "stdout",
     "output_type": "stream",
     "text": [
      "Generating jpeg for s1a_iw_grdh_1sdv_20170810t024714_20170810t024738_017855_01def7_f48c.safe\n"
     ]
    },
    {
     "name": "stderr",
     "output_type": "stream",
     "text": [
      " 28%|███████████████████████                                                            | 5/18 [01:03<02:46, 12.77s/it]"
     ]
    },
    {
     "name": "stdout",
     "output_type": "stream",
     "text": [
      "Generating jpeg for s1a_iw_grdh_1sdv_20170814t145006_20170814t145031_017921_01e0ed_db39.safe\n"
     ]
    },
    {
     "name": "stderr",
     "output_type": "stream",
     "text": [
      " 33%|███████████████████████████▋                                                       | 6/18 [01:17<02:36, 13.07s/it]"
     ]
    },
    {
     "name": "stdout",
     "output_type": "stream",
     "text": [
      "Generating jpeg for s1a_iw_grdh_1sdv_20210824t034317_20210824t034342_039366_04a651_0379.safe\n"
     ]
    },
    {
     "name": "stderr",
     "output_type": "stream",
     "text": [
      " 39%|████████████████████████████████▎                                                  | 7/18 [01:31<02:26, 13.28s/it]"
     ]
    },
    {
     "name": "stdout",
     "output_type": "stream",
     "text": [
      "Generating jpeg for s1a_iw_grdh_1sdv_20230301t213924_20230301t213949_047456_05b291_1fa9.safe\n"
     ]
    },
    {
     "name": "stderr",
     "output_type": "stream",
     "text": [
      " 44%|████████████████████████████████████▉                                              | 8/18 [01:44<02:14, 13.42s/it]"
     ]
    },
    {
     "name": "stdout",
     "output_type": "stream",
     "text": [
      "Generating jpeg for s1a_iw_grdh_1sdv_20230306t214710_20230306t214735_047529_05b50f_402c.safe\n"
     ]
    },
    {
     "name": "stderr",
     "output_type": "stream",
     "text": [
      " 50%|█████████████████████████████████████████▌                                         | 9/18 [01:58<02:02, 13.62s/it]"
     ]
    },
    {
     "name": "stdout",
     "output_type": "stream",
     "text": [
      "Generating jpeg for s1a_iw_grdh_1sdv_20230306t214735_20230306t214800_047529_05b50f_8933.safe\n"
     ]
    },
    {
     "name": "stderr",
     "output_type": "stream",
     "text": [
      " 56%|█████████████████████████████████████████████▌                                    | 10/18 [02:12<01:49, 13.65s/it]"
     ]
    },
    {
     "name": "stdout",
     "output_type": "stream",
     "text": [
      "Generating jpeg for s1a_iw_grdh_1sdv_20230323t144217_20230323t144242_047773_05bd44_e3ef.safe\n"
     ]
    },
    {
     "name": "stderr",
     "output_type": "stream",
     "text": [
      " 61%|██████████████████████████████████████████████████                                | 11/18 [02:26<01:35, 13.69s/it]"
     ]
    },
    {
     "name": "stdout",
     "output_type": "stream",
     "text": [
      "Generating jpeg for s1a_iw_grdh_1sdv_20230409t145035_20230409t145100_048021_05c59b_8df5.safe\n"
     ]
    },
    {
     "name": "stderr",
     "output_type": "stream",
     "text": [
      " 67%|██████████████████████████████████████████████████████▋                           | 12/18 [02:39<01:21, 13.63s/it]"
     ]
    },
    {
     "name": "stdout",
     "output_type": "stream",
     "text": [
      "Generating jpeg for s1a_iw_grdh_1sdv_20230409t163151_20230409t163216_048022_05c5a3_60d1.safe\n"
     ]
    },
    {
     "name": "stderr",
     "output_type": "stream",
     "text": [
      " 72%|███████████████████████████████████████████████████████████▏                      | 13/18 [02:53<01:08, 13.74s/it]"
     ]
    },
    {
     "name": "stdout",
     "output_type": "stream",
     "text": [
      "Generating jpeg for s1a_iw_grdh_1sdv_20230412t023951_20230412t024016_048057_05c6db_959f.safe\n"
     ]
    },
    {
     "name": "stderr",
     "output_type": "stream",
     "text": [
      " 78%|███████████████████████████████████████████████████████████████▊                  | 14/18 [03:07<00:54, 13.69s/it]"
     ]
    },
    {
     "name": "stdout",
     "output_type": "stream",
     "text": [
      "Generating jpeg for s1b_iw_grdh_1sdv_20210824t153302_20210824t153327_028390_03632f_15d6.safe\n"
     ]
    },
    {
     "name": "stderr",
     "output_type": "stream",
     "text": [
      " 83%|████████████████████████████████████████████████████████████████████▎             | 15/18 [03:21<00:41, 13.79s/it]"
     ]
    },
    {
     "name": "stdout",
     "output_type": "stream",
     "text": [
      "Generating jpeg for s1b_iw_grdh_1sdv_20210830t034238_20210830t034303_028470_0365b8_901e.safe\n"
     ]
    },
    {
     "name": "stderr",
     "output_type": "stream",
     "text": [
      "100%|██████████████████████████████████████████████████████████████████████████████████| 18/18 [03:35<00:00, 11.96s/it]"
     ]
    },
    {
     "name": "stdout",
     "output_type": "stream",
     "text": [
      "Generating jpeg for saa_11_grdh_1_20100326_20100326_017505_01d444_2d47.safe\n",
      "Generating jpeg for saa_11_grdh_1_20100426_20100426_017505_01d444_2d47.safe\n"
     ]
    },
    {
     "name": "stderr",
     "output_type": "stream",
     "text": [
      "\n"
     ]
    }
   ],
   "source": [
    "convert_image()"
   ]
  },
  {
   "cell_type": "code",
   "execution_count": 13,
   "id": "a6f3170e",
   "metadata": {},
   "outputs": [],
   "source": [
    "def take_images(img_dir_path):\n",
    "\n",
    "    img_files = []\n",
    "    for filename in [f for f in os.listdir(img_dir_path) if os.path.isfile(os.path.join(img_dir_path, f))]:\n",
    "        img_files.append(img_dir_path + '\\\\' + filename)\n",
    "    print(img_files)\n",
    "    return(img_files)"
   ]
  },
  {
   "cell_type": "code",
   "execution_count": 14,
   "id": "2ae5ded1",
   "metadata": {},
   "outputs": [],
   "source": [
    "model1 = 'C:/Users/Ilya/Documents/dataset/Project/SARImgv4-1/yolov5x_size640_epochs101_batch8_small2/weights/best.pt'\n",
    "model2 = 'C:/Users/Ilya/Documents/dataset/Project/SARImgv4-1/retrain_yolov5x_size640_epochs50_batch82/weights/best.pt'\n",
    "model3 = 'C:/Users/Ilya/Documents/dataset/Project/SARImgv4-1/retrain_yolov5x_size640_epochs20_batch8/weights/best.pt'\n",
    "model4 = 'C:/Users/Ilya/Documents/dataset/Project/SARImgv4-1/retrain_yolov5x_size640_epochs20_batch83/weights/best.pt'\n",
    "model5 = 'C:/Users/Ilya/Documents/dataset/Project/SARImgv4-1/retrain_yolov5x_size640_epochs91_batch8/weights/best.pt'\n",
    "model6 = 'C:/Users/Ilya/Documents/dataset/Project/SARImgv4-1/retrain_yolov5x_size640_epochs30_batch8/weights/best.pt'"
   ]
  },
  {
   "cell_type": "code",
   "execution_count": 66,
   "id": "f770ad04",
   "metadata": {},
   "outputs": [],
   "source": [
    "def oil_search_yolo():\n",
    "    img_dir_path = os.getcwd() + '\\\\unzip'\n",
    "    img_files = take_images(img_dir_path)\n",
    "    oil_spill = 0\n",
    "    \n",
    "    model = torch.hub.load('ultralytics/yolov5', 'custom', path=model6)  # local model\n",
    "    for filename in tqdm([f for f in os.listdir(img_dir_path) if os.path.isfile(os.path.join(img_dir_path, f))]):\n",
    "        img_files = img_dir_path + '\\\\' + filename\n",
    "        results = model(img_files)\n",
    "        results.names.update({0: 'oil-spill'})\n",
    "        if results.pandas().xyxy[0].shape[0] > 0:\n",
    "            oil_spill += 1\n",
    "        results.save(save_dir='OILimages')#я не могу контролировать вывод программы сейв так что будут разрывы\n",
    "    return oil_spill"
   ]
  },
  {
   "cell_type": "code",
   "execution_count": 67,
   "id": "b3b2e609",
   "metadata": {
    "scrolled": false
   },
   "outputs": [
    {
     "name": "stdout",
     "output_type": "stream",
     "text": [
      "['C:\\\\Users\\\\Ilya\\\\Documents\\\\dataset\\\\Project\\\\unzip\\\\s1a_iw_grdh_1sdv_20170717t024712_20170717t024736_017505_01d444_2d47.jpg', 'C:\\\\Users\\\\Ilya\\\\Documents\\\\dataset\\\\Project\\\\unzip\\\\s1a_iw_grdh_1sdv_20170807t163947_20170807t164012_017820_01dde9_409e.jpg', 'C:\\\\Users\\\\Ilya\\\\Documents\\\\dataset\\\\Project\\\\unzip\\\\s1a_iw_grdh_1sdv_20170808t043959_20170808t044021_017827_01de24_6a4e.jpg', 'C:\\\\Users\\\\Ilya\\\\Documents\\\\dataset\\\\Project\\\\unzip\\\\s1a_iw_grdh_1sdv_20170809t144148_20170809t144213_017848_01dec1_ec32.jpg', 'C:\\\\Users\\\\Ilya\\\\Documents\\\\dataset\\\\Project\\\\unzip\\\\s1a_iw_grdh_1sdv_20170810t024714_20170810t024738_017855_01def7_f48c.jpg', 'C:\\\\Users\\\\Ilya\\\\Documents\\\\dataset\\\\Project\\\\unzip\\\\s1a_iw_grdh_1sdv_20170814t145006_20170814t145031_017921_01e0ed_db39.jpg', 'C:\\\\Users\\\\Ilya\\\\Documents\\\\dataset\\\\Project\\\\unzip\\\\s1a_iw_grdh_1sdv_20210824t034317_20210824t034342_039366_04a651_0379.jpg', 'C:\\\\Users\\\\Ilya\\\\Documents\\\\dataset\\\\Project\\\\unzip\\\\s1a_iw_grdh_1sdv_20230301t213924_20230301t213949_047456_05b291_1fa9.jpg', 'C:\\\\Users\\\\Ilya\\\\Documents\\\\dataset\\\\Project\\\\unzip\\\\s1a_iw_grdh_1sdv_20230306t214710_20230306t214735_047529_05b50f_402c.jpg', 'C:\\\\Users\\\\Ilya\\\\Documents\\\\dataset\\\\Project\\\\unzip\\\\s1a_iw_grdh_1sdv_20230306t214735_20230306t214800_047529_05b50f_8933.jpg', 'C:\\\\Users\\\\Ilya\\\\Documents\\\\dataset\\\\Project\\\\unzip\\\\s1a_iw_grdh_1sdv_20230323t144217_20230323t144242_047773_05bd44_e3ef.jpg', 'C:\\\\Users\\\\Ilya\\\\Documents\\\\dataset\\\\Project\\\\unzip\\\\s1a_iw_grdh_1sdv_20230409t145035_20230409t145100_048021_05c59b_8df5.jpg', 'C:\\\\Users\\\\Ilya\\\\Documents\\\\dataset\\\\Project\\\\unzip\\\\s1a_iw_grdh_1sdv_20230409t163151_20230409t163216_048022_05c5a3_60d1.jpg', 'C:\\\\Users\\\\Ilya\\\\Documents\\\\dataset\\\\Project\\\\unzip\\\\s1a_iw_grdh_1sdv_20230412t023951_20230412t024016_048057_05c6db_959f.jpg', 'C:\\\\Users\\\\Ilya\\\\Documents\\\\dataset\\\\Project\\\\unzip\\\\s1b_iw_grdh_1sdv_20210824t153302_20210824t153327_028390_03632f_15d6.jpg', 'C:\\\\Users\\\\Ilya\\\\Documents\\\\dataset\\\\Project\\\\unzip\\\\s1b_iw_grdh_1sdv_20210830t034238_20210830t034303_028470_0365b8_901e.jpg', 'C:\\\\Users\\\\Ilya\\\\Documents\\\\dataset\\\\Project\\\\unzip\\\\saa_11_grdh_1_20100326_20100326_017505_01d444_2d47.jpg']\n"
     ]
    },
    {
     "name": "stderr",
     "output_type": "stream",
     "text": [
      "Using cache found in C:\\Users\\Ilya/.cache\\torch\\hub\\ultralytics_yolov5_master\n",
      "YOLOv5  v7.0-120-g3e55763 Python-3.9.16 torch-2.0.0 CUDA:0 (NVIDIA GeForce RTX 2060 SUPER, 8192MiB)\n",
      "\n",
      "Fusing layers... \n",
      "Model summary: 322 layers, 86173414 parameters, 0 gradients, 203.8 GFLOPs\n",
      "Adding AutoShape... \n",
      "  0%|                                                                                           | 0/17 [00:00<?, ?it/s]Saved 1 image to \u001b[1mOILimages\u001b[0m\n",
      "  6%|████▉                                                                              | 1/17 [00:15<04:02, 15.18s/it]Saved 1 image to \u001b[1mOILimages2\u001b[0m\n",
      " 12%|█████████▊                                                                         | 2/17 [00:31<03:58, 15.88s/it]Saved 1 image to \u001b[1mOILimages3\u001b[0m\n",
      " 18%|██████████████▋                                                                    | 3/17 [00:45<03:29, 14.97s/it]Saved 1 image to \u001b[1mOILimages4\u001b[0m\n",
      " 24%|███████████████████▌                                                               | 4/17 [01:01<03:20, 15.38s/it]Saved 1 image to \u001b[1mOILimages5\u001b[0m\n",
      " 29%|████████████████████████▍                                                          | 5/17 [01:16<03:02, 15.24s/it]Saved 1 image to \u001b[1mOILimages6\u001b[0m\n",
      " 35%|█████████████████████████████▎                                                     | 6/17 [01:32<02:51, 15.57s/it]Saved 1 image to \u001b[1mOILimages7\u001b[0m\n",
      " 41%|██████████████████████████████████▏                                                | 7/17 [01:49<02:39, 15.94s/it]Saved 1 image to \u001b[1mOILimages8\u001b[0m\n",
      " 47%|███████████████████████████████████████                                            | 8/17 [02:05<02:25, 16.12s/it]Saved 1 image to \u001b[1mOILimages9\u001b[0m\n",
      " 53%|███████████████████████████████████████████▉                                       | 9/17 [02:22<02:11, 16.43s/it]Saved 1 image to \u001b[1mOILimages10\u001b[0m\n",
      " 59%|████████████████████████████████████████████████▏                                 | 10/17 [02:39<01:55, 16.53s/it]Saved 1 image to \u001b[1mOILimages11\u001b[0m\n",
      " 65%|█████████████████████████████████████████████████████                             | 11/17 [02:56<01:39, 16.62s/it]Saved 1 image to \u001b[1mOILimages12\u001b[0m\n",
      " 71%|█████████████████████████████████████████████████████████▉                        | 12/17 [03:13<01:23, 16.62s/it]Saved 1 image to \u001b[1mOILimages13\u001b[0m\n",
      " 76%|██████████████████████████████████████████████████████████████▋                   | 13/17 [03:30<01:07, 16.99s/it]Saved 1 image to \u001b[1mOILimages14\u001b[0m\n",
      " 82%|███████████████████████████████████████████████████████████████████▌              | 14/17 [03:47<00:50, 16.88s/it]Saved 1 image to \u001b[1mOILimages15\u001b[0m\n",
      " 88%|████████████████████████████████████████████████████████████████████████▎         | 15/17 [04:05<00:34, 17.18s/it]Saved 1 image to \u001b[1mOILimages16\u001b[0m\n",
      " 94%|█████████████████████████████████████████████████████████████████████████████▏    | 16/17 [04:22<00:17, 17.12s/it]Saved 1 image to \u001b[1mOILimages17\u001b[0m\n",
      "100%|██████████████████████████████████████████████████████████████████████████████████| 17/17 [04:22<00:00, 15.46s/it]\n"
     ]
    }
   ],
   "source": [
    "oil_spill = oil_search_yolo()"
   ]
  },
  {
   "cell_type": "code",
   "execution_count": 59,
   "id": "1f6c25b0",
   "metadata": {},
   "outputs": [],
   "source": [
    "def repack_results():\n",
    "    #img_dir_path = yourpath  он в анзип папку смотрит \n",
    "    img_files =\"\"\n",
    "    Path = os.getcwd()\n",
    "    for filename in tqdm([f for f in os.listdir(Path) if (os.path.isfile(os.path.join(Path, f)) == False) and (\"OILimages\" in f)]):\n",
    "        if \"OILimages\" in filename:\n",
    "            img_files = Path + '\\\\' + filename\n",
    "            for image in os.listdir(img_files):\n",
    "\n",
    "\n",
    "                img = Image.open(os.path.join(img_files, image))\n",
    "                # получаем ширину и высоту\n",
    "                width, height = img.size\n",
    "                #print(width, height)\n",
    "                # открываем картинку в окне\n",
    "                #img.show()\n",
    "                precent = 0.1 # процент от максимального размера (меньше процент меньше картинка)\n",
    "                new_image = img.resize((int(width * precent), int(height * precent)))\n",
    "                #new_image.show()\n",
    "                # сохранение картинки\n",
    "                new_image_path = Path + '\\\\results'\n",
    "                try:\n",
    "                    os.makedirs(new_image_path)\n",
    "                except FileExistsError:\n",
    "                    # directory already exists\n",
    "                    pass\n",
    "                new_image_path_full = os.path.join(new_image_path, 'full')\n",
    "                new_image_path_small = os.path.join(new_image_path, 'small')\n",
    "                img = Image.open(os.path.join(img_files, image))\n",
    "                #print(new_image_path)\n",
    "                #проверка на наличие дирректории и ее создание\n",
    "                if not os.path.exists(new_image_path_full):\n",
    "                    os.makedirs(new_image_path_full)\n",
    "                \n",
    "                img.save(os.path.join(new_image_path_full, image))\n",
    "\n",
    "                if not os.path.exists(new_image_path_small):\n",
    "                    os.makedirs(new_image_path_small)\n",
    "                new_image_path = os.path.splitext(os.path.join(new_image_path_small, image))[0] + 'small' + \".jpg\"\n",
    "                new_image.save(new_image_path)\n",
    "\n",
    "                #print(\"finish\")"
   ]
  },
  {
   "cell_type": "code",
   "execution_count": 61,
   "id": "6b392d43",
   "metadata": {},
   "outputs": [
    {
     "name": "stderr",
     "output_type": "stream",
     "text": [
      "100%|██████████████████████████████████████████████████████████████████████████████████| 17/17 [04:41<00:00, 16.56s/it]\n"
     ]
    }
   ],
   "source": [
    "repack_results()"
   ]
  },
  {
   "cell_type": "code",
   "execution_count": 64,
   "id": "717e335b",
   "metadata": {},
   "outputs": [
    {
     "data": {
      "text/plain": [
       "'14'"
      ]
     },
     "execution_count": 64,
     "metadata": {},
     "output_type": "execute_result"
    }
   ],
   "source": [
    "f\"{oil_spill}\""
   ]
  },
  {
   "cell_type": "code",
   "execution_count": 65,
   "id": "aaf52e53",
   "metadata": {
    "scrolled": false
   },
   "outputs": [
    {
     "name": "stdout",
     "output_type": "stream",
     "text": [
      "\u001b[92mАнализ окончен\u001b[0m\n"
     ]
    }
   ],
   "source": [
    "%run create_html.py -T \"template.html\" \"results\\small\" -t f\"{time_start}\" -I f\"{oil_spill}\" "
   ]
  },
  {
   "cell_type": "code",
   "execution_count": 28,
   "id": "f4554980",
   "metadata": {},
   "outputs": [
    {
     "name": "stdout",
     "output_type": "stream",
     "text": [
      "usage: create_html.py [-h] [-t TIME] [-w WIDTH] [-e [EXT ...]] [-T TEMPLATE] [-o OUTPUT] [path]\n",
      "\n",
      "Create a html file that shows the images.\n",
      "\n",
      "positional arguments:\n",
      "  path                  path that contains the images (default: .)\n",
      "\n",
      "optional arguments:\n",
      "  -h, --help            show this help message and exit\n",
      "  -t TIME, --time TIME  time start of program work (default: time_now - 31 May 2023 23:31:13)\n",
      "  -w WIDTH, --width WIDTH\n",
      "                        width of the image in the html file (default: 800)\n",
      "  -e [EXT ...], --ext [EXT ...]\n",
      "                        extension names of the images (default: ['jpg', 'png'])\n",
      "  -T TEMPLATE, --template TEMPLATE\n",
      "                        the template file of the html (default: template.html)\n",
      "  -o OUTPUT, --output OUTPUT\n",
      "                        the output file name (default: <Original Path>/View.html) (default: None)\n"
     ]
    }
   ],
   "source": [
    "%run create_html.py -help"
   ]
  },
  {
   "cell_type": "code",
   "execution_count": 69,
   "id": "4895cf94",
   "metadata": {},
   "outputs": [],
   "source": [
    "from utils.plots import plot_results\n",
    "plot_results('results2.csv')  # plot 'results.csv' as 'results.png'"
   ]
  },
  {
   "cell_type": "code",
   "execution_count": 12,
   "id": "133bc1e0",
   "metadata": {},
   "outputs": [],
   "source": [
    "torch.cuda.empty_cache()"
   ]
  },
  {
   "cell_type": "code",
   "execution_count": 13,
   "id": "49271938",
   "metadata": {},
   "outputs": [],
   "source": [
    "import gc\n",
    "gc.collect()\n",
    "torch.cuda.empty_cache()"
   ]
  },
  {
   "cell_type": "code",
   "execution_count": 20,
   "id": "bcc8b569",
   "metadata": {},
   "outputs": [],
   "source": [
    "SIZE = 640\n",
    "BATCH_SIZE = 8\n",
    "#Iterations = 4\n",
    "EPOCHS = 30\n",
    "MODEL = 'C:/Users/Ilya/Documents/dataset/Project/SARImgv4-1/retrain_yolov5x_size640_epochs91_batch8/weights/best.pt'\n",
    "#MODEL = 'C:/Users/Ilya/Documents/dataset/Project/SARImgv4-1/retrain_yolov5x_size640_epochs20_batch83/weights/best.pt'\n",
    "#MODEL = \"C:/Users/Ilya/Documents/dataset/Project/SARImgv4-1/retrain_yolov5x_size640_epochs50_batch82/weights/best.pt\"\n",
    "#MODEL = \"C:/Users/Ilya/Documents/dataset/Project/SARImgv4-1/yolov5x_size640_epochs101_batch8_small2/weights/best.pt\"\n",
    "#100+50+20+20+20 =210\n",
    "WORKERS = 0\n",
    "PROJECT = \"SARImgv4-1\"\n",
    "DEVICE = device\n",
    "RUN_NAME = f\"retrain_yolov5x_size{SIZE}_epochs{EPOCHS}_batch{BATCH_SIZE}\""
   ]
  },
  {
   "cell_type": "code",
   "execution_count": 21,
   "id": "be73977c",
   "metadata": {},
   "outputs": [],
   "source": [
    "torch.use_deterministic_algorithms(True)"
   ]
  },
  {
   "cell_type": "code",
   "execution_count": 22,
   "id": "01ac9f6a",
   "metadata": {
    "scrolled": true
   },
   "outputs": [
    {
     "name": "stderr",
     "output_type": "stream",
     "text": [
      "\u001b[34m\u001b[1mtrain: \u001b[0mweights=C:/Users/Ilya/Documents/dataset/Project/SARImgv4-1/retrain_yolov5x_size640_epochs91_batch8/weights/best.pt, cfg=, data=C:/Users/Ilya/Documents/dataset/SARImgv4-1/data.yaml, hyp=..\\data\\hyps\\hyp.scratch-low.yaml, epochs=30, batch_size=8, imgsz=640, rect=False, resume=False, nosave=False, noval=False, noautoanchor=False, noplots=False, evolve=None, bucket=, cache=ram, image_weights=False, device=cuda:0, multi_scale=False, single_cls=False, optimizer=SGD, sync_bn=False, workers=0, project=SARImgv4-1, name=retrain_yolov5x_size640_epochs30_batch8, exist_ok=False, quad=False, cos_lr=False, label_smoothing=0.0, patience=100, freeze=[0], save_period=-1, seed=0, local_rank=-1, entity=None, upload_dataset=False, bbox_interval=-1, artifact_alias=latest\n",
      "\u001b[34m\u001b[1mgithub: \u001b[0m YOLOv5 is out of date by 55 commits. Use 'git pull' or 'git clone https://github.com/ultralytics/yolov5' to update.\n",
      "YOLOv5  v7.0-120-g3e55763 Python-3.9.16 torch-2.0.0 CUDA:0 (NVIDIA GeForce RTX 2060 SUPER, 8192MiB)\n",
      "\n",
      "\u001b[34m\u001b[1mhyperparameters: \u001b[0mlr0=0.01, lrf=0.01, momentum=0.937, weight_decay=0.0005, warmup_epochs=3.0, warmup_momentum=0.8, warmup_bias_lr=0.1, box=0.05, cls=0.5, cls_pw=1.0, obj=1.0, obj_pw=1.0, iou_t=0.2, anchor_t=4.0, fl_gamma=0.0, hsv_h=0.015, hsv_s=0.7, hsv_v=0.4, degrees=0.0, translate=0.1, scale=0.5, shear=0.0, perspective=0.0, flipud=0.0, fliplr=0.5, mosaic=1.0, mixup=0.0, copy_paste=0.0\n",
      "\u001b[34m\u001b[1mClearML: \u001b[0mrun 'pip install clearml' to automatically track, visualize and remotely train YOLOv5  in ClearML\n",
      "\u001b[34m\u001b[1mComet: \u001b[0mrun 'pip install comet_ml' to automatically track and visualize YOLOv5  runs in Comet\n",
      "\u001b[34m\u001b[1mTensorBoard: \u001b[0mStart with 'tensorboard --logdir SARImgv4-1', view at http://localhost:6006/\n",
      "\n",
      "                 from  n    params  module                                  arguments                     \n",
      "  0                -1  1      8800  models.common.Conv                      [3, 80, 6, 2, 2]              \n",
      "  1                -1  1    115520  models.common.Conv                      [80, 160, 3, 2]               \n",
      "  2                -1  4    309120  models.common.C3                        [160, 160, 4]                 \n",
      "  3                -1  1    461440  models.common.Conv                      [160, 320, 3, 2]              \n",
      "  4                -1  8   2259200  models.common.C3                        [320, 320, 8]                 \n",
      "  5                -1  1   1844480  models.common.Conv                      [320, 640, 3, 2]              \n",
      "  6                -1 12  13125120  models.common.C3                        [640, 640, 12]                \n",
      "  7                -1  1   7375360  models.common.Conv                      [640, 1280, 3, 2]             \n",
      "  8                -1  4  19676160  models.common.C3                        [1280, 1280, 4]               \n",
      "  9                -1  1   4099840  models.common.SPPF                      [1280, 1280, 5]               \n",
      " 10                -1  1    820480  models.common.Conv                      [1280, 640, 1, 1]             \n",
      " 11                -1  1         0  torch.nn.modules.upsampling.Upsample    [None, 2, 'nearest']          \n",
      " 12           [-1, 6]  1         0  models.common.Concat                    [1]                           \n",
      " 13                -1  4   5332480  models.common.C3                        [1280, 640, 4, False]         \n",
      " 14                -1  1    205440  models.common.Conv                      [640, 320, 1, 1]              \n",
      " 15                -1  1         0  torch.nn.modules.upsampling.Upsample    [None, 2, 'nearest']          \n",
      " 16           [-1, 4]  1         0  models.common.Concat                    [1]                           \n",
      " 17                -1  4   1335040  models.common.C3                        [640, 320, 4, False]          \n",
      " 18                -1  1    922240  models.common.Conv                      [320, 320, 3, 2]              \n",
      " 19          [-1, 14]  1         0  models.common.Concat                    [1]                           \n",
      " 20                -1  4   4922880  models.common.C3                        [640, 640, 4, False]          \n",
      " 21                -1  1   3687680  models.common.Conv                      [640, 640, 3, 2]              \n",
      " 22          [-1, 10]  1         0  models.common.Concat                    [1]                           \n",
      " 23                -1  4  19676160  models.common.C3                        [1280, 1280, 4, False]        \n",
      " 24      [17, 20, 23]  1     40374  models.yolo.Detect                      [1, [[10, 13, 16, 30, 33, 23], [30, 61, 62, 45, 59, 119], [116, 90, 156, 198, 373, 326]], [320, 640, 1280]]\n",
      "Model summary: 445 layers, 86217814 parameters, 86217814 gradients, 204.6 GFLOPs\n",
      "\n",
      "Transferred 745/745 items from C:\\Users\\Ilya\\Documents\\dataset\\Project\\SARImgv4-1\\retrain_yolov5x_size640_epochs91_batch8\\weights\\best.pt\n",
      "\u001b[34m\u001b[1mAMP: \u001b[0mchecks passed \n",
      "\u001b[34m\u001b[1moptimizer:\u001b[0m SGD(lr=0.01) with parameter groups 123 weight(decay=0.0), 126 weight(decay=0.0005), 126 bias\n",
      "\u001b[34m\u001b[1mtrain: \u001b[0mScanning C:\\Users\\Ilya\\Documents\\dataset\\SARImgv4-1\\train\\labels... 1675 images, 21 backgrounds, 0 corrupt: 100%\u001b[0m\n",
      "\u001b[34m\u001b[1mtrain: \u001b[0mWARNING  Cache directory C:\\Users\\Ilya\\Documents\\dataset\\SARImgv4-1\\train is not writeable: [WinError 183]   ,     : 'C:\\\\Users\\\\Ilya\\\\Documents\\\\dataset\\\\SARImgv4-1\\\\train\\\\labels.cache.npy' -> 'C:\\\\Users\\\\Ilya\\\\Documents\\\\dataset\\\\SARImgv4-1\\\\train\\\\labels.cache'\n",
      "\u001b[34m\u001b[1mtrain: \u001b[0mCaching images (1.9GB ram): 100%|██████████| 1696/1696 [00:00<00:00, 2475.92it/s]\u001b[0m\n",
      "\u001b[34m\u001b[1mval: \u001b[0mScanning C:\\Users\\Ilya\\Documents\\dataset\\SARImgv4-1\\valid\\labels... 159 images, 0 backgrounds, 0 corrupt: 100%|███\u001b[0m\n",
      "\u001b[34m\u001b[1mval: \u001b[0mWARNING  Cache directory C:\\Users\\Ilya\\Documents\\dataset\\SARImgv4-1\\valid is not writeable: [WinError 183]   ,     : 'C:\\\\Users\\\\Ilya\\\\Documents\\\\dataset\\\\SARImgv4-1\\\\valid\\\\labels.cache.npy' -> 'C:\\\\Users\\\\Ilya\\\\Documents\\\\dataset\\\\SARImgv4-1\\\\valid\\\\labels.cache'\n",
      "\u001b[34m\u001b[1mval: \u001b[0mCaching images (0.2GB ram): 100%|██████████| 159/159 [00:00<00:00, 1939.04it/s]\u001b[0m\n",
      "\n",
      "\u001b[34m\u001b[1mAutoAnchor: \u001b[0m3.08 anchors/target, 0.998 Best Possible Recall (BPR). Current anchors are a good fit to dataset \n",
      "Plotting labels to SARImgv4-1\\retrain_yolov5x_size640_epochs30_batch8\\labels.jpg... \n",
      "Image sizes 640 train, 640 val\n",
      "Using 0 dataloader workers\n",
      "Logging results to \u001b[1mSARImgv4-1\\retrain_yolov5x_size640_epochs30_batch8\u001b[0m\n",
      "Starting training for 30 epochs...\n",
      "\n",
      "      Epoch    GPU_mem   box_loss   obj_loss   cls_loss  Instances       Size\n",
      "       0/29       7.4G    0.03459    0.01087          0         50        640: 100%|██████████| 212/212 [02:57<00:00,  \n",
      "                 Class     Images  Instances          P          R      mAP50   mAP50-95: 100%|██████████| 10/10 [00:05\n",
      "                   all        159        381      0.668      0.586      0.581      0.293\n",
      "\n",
      "      Epoch    GPU_mem   box_loss   obj_loss   cls_loss  Instances       Size\n",
      "       1/29      7.47G    0.03464    0.01028          0         80        640: 100%|██████████| 212/212 [04:01<00:00,  \n",
      "                 Class     Images  Instances          P          R      mAP50   mAP50-95: 100%|██████████| 10/10 [00:05\n",
      "                   all        159        381       0.64      0.627      0.583      0.277\n",
      "\n",
      "      Epoch    GPU_mem   box_loss   obj_loss   cls_loss  Instances       Size\n",
      "       2/29      7.45G      0.037     0.0109          0         46        640: 100%|██████████| 212/212 [06:35<00:00,  \n",
      "                 Class     Images  Instances          P          R      mAP50   mAP50-95: 100%|██████████| 10/10 [00:04\n",
      "                   all        159        381      0.644      0.601      0.567      0.263\n",
      "\n",
      "      Epoch    GPU_mem   box_loss   obj_loss   cls_loss  Instances       Size\n",
      "       3/29      7.48G    0.03911    0.01129          0         35        640: 100%|██████████| 212/212 [02:38<00:00,  \n",
      "                 Class     Images  Instances          P          R      mAP50   mAP50-95: 100%|██████████| 10/10 [00:04\n",
      "                   all        159        381      0.653      0.572       0.57      0.256\n",
      "\n",
      "      Epoch    GPU_mem   box_loss   obj_loss   cls_loss  Instances       Size\n",
      "       4/29      7.48G    0.04057    0.01157          0         29        640: 100%|██████████| 212/212 [01:59<00:00,  \n",
      "                 Class     Images  Instances          P          R      mAP50   mAP50-95: 100%|██████████| 10/10 [00:04\n",
      "                   all        159        381      0.704      0.551      0.537      0.248\n",
      "\n",
      "      Epoch    GPU_mem   box_loss   obj_loss   cls_loss  Instances       Size\n",
      "       5/29      7.48G    0.04091    0.01209          0         31        640: 100%|██████████| 212/212 [02:06<00:00,  \n",
      "                 Class     Images  Instances          P          R      mAP50   mAP50-95: 100%|██████████| 10/10 [00:04\n",
      "                   all        159        381      0.532      0.514       0.48      0.222\n",
      "\n",
      "      Epoch    GPU_mem   box_loss   obj_loss   cls_loss  Instances       Size\n",
      "       6/29      7.48G     0.0419    0.01258          0         60        640: 100%|██████████| 212/212 [01:57<00:00,  \n",
      "                 Class     Images  Instances          P          R      mAP50   mAP50-95: 100%|██████████| 10/10 [00:04\n",
      "                   all        159        381      0.687      0.554      0.547      0.258\n",
      "\n",
      "      Epoch    GPU_mem   box_loss   obj_loss   cls_loss  Instances       Size\n",
      "       7/29      7.48G     0.0401     0.0124          0         34        640: 100%|██████████| 212/212 [01:53<00:00,  \n",
      "                 Class     Images  Instances          P          R      mAP50   mAP50-95: 100%|██████████| 10/10 [00:04\n",
      "                   all        159        381       0.64      0.559      0.543      0.269\n",
      "\n",
      "      Epoch    GPU_mem   box_loss   obj_loss   cls_loss  Instances       Size\n",
      "       8/29      7.48G    0.04103    0.01199          0         27        640: 100%|██████████| 212/212 [01:57<00:00,  \n",
      "                 Class     Images  Instances          P          R      mAP50   mAP50-95: 100%|██████████| 10/10 [00:04\n",
      "                   all        159        381      0.669      0.596      0.577      0.282\n",
      "\n",
      "      Epoch    GPU_mem   box_loss   obj_loss   cls_loss  Instances       Size\n",
      "       9/29      7.46G    0.04026     0.0117          0         33        640: 100%|██████████| 212/212 [02:08<00:00,  \n",
      "                 Class     Images  Instances          P          R      mAP50   mAP50-95: 100%|██████████| 10/10 [00:03\n",
      "                   all        159        381      0.655      0.538      0.528      0.252\n",
      "\n",
      "      Epoch    GPU_mem   box_loss   obj_loss   cls_loss  Instances       Size\n",
      "      10/29      7.46G    0.04048    0.01207          0         50        640: 100%|██████████| 212/212 [01:59<00:00,  \n",
      "                 Class     Images  Instances          P          R      mAP50   mAP50-95: 100%|██████████| 10/10 [00:04\n",
      "                   all        159        381      0.648      0.549      0.528      0.263\n",
      "\n",
      "      Epoch    GPU_mem   box_loss   obj_loss   cls_loss  Instances       Size\n",
      "      11/29      7.44G    0.03947    0.01127          0         32        640: 100%|██████████| 212/212 [02:41<00:00,  \n",
      "                 Class     Images  Instances          P          R      mAP50   mAP50-95: 100%|██████████| 10/10 [00:04\n",
      "                   all        159        381      0.649      0.543      0.545      0.268\n",
      "\n",
      "      Epoch    GPU_mem   box_loss   obj_loss   cls_loss  Instances       Size\n",
      "      12/29      7.44G    0.03884    0.01144          0         40        640: 100%|██████████| 212/212 [02:25<00:00,  \n",
      "                 Class     Images  Instances          P          R      mAP50   mAP50-95: 100%|██████████| 10/10 [00:08\n",
      "                   all        159        381      0.706      0.562      0.578      0.289\n",
      "\n",
      "      Epoch    GPU_mem   box_loss   obj_loss   cls_loss  Instances       Size\n",
      "      13/29      7.44G    0.03816    0.01117          0         40        640: 100%|██████████| 212/212 [03:23<00:00,  \n",
      "                 Class     Images  Instances          P          R      mAP50   mAP50-95: 100%|██████████| 10/10 [00:07\n",
      "                   all        159        381      0.708      0.525      0.531      0.268\n",
      "\n",
      "      Epoch    GPU_mem   box_loss   obj_loss   cls_loss  Instances       Size\n",
      "      14/29      7.44G    0.03759    0.01122          0         47        640: 100%|██████████| 212/212 [01:56<00:00,  \n",
      "                 Class     Images  Instances          P          R      mAP50   mAP50-95: 100%|██████████| 10/10 [00:04\n",
      "                   all        159        381      0.676      0.559       0.55       0.28\n",
      "\n",
      "      Epoch    GPU_mem   box_loss   obj_loss   cls_loss  Instances       Size\n",
      "      15/29      7.44G    0.03666    0.01096          0         33        640: 100%|██████████| 212/212 [01:48<00:00,  \n",
      "                 Class     Images  Instances          P          R      mAP50   mAP50-95: 100%|██████████| 10/10 [00:07\n",
      "                   all        159        381      0.637      0.596      0.547      0.274\n",
      "\n",
      "      Epoch    GPU_mem   box_loss   obj_loss   cls_loss  Instances       Size\n",
      "      16/29      7.44G    0.03605    0.01087          0         57        640: 100%|██████████| 212/212 [02:13<00:00,  \n",
      "                 Class     Images  Instances          P          R      mAP50   mAP50-95: 100%|██████████| 10/10 [00:07\n",
      "                   all        159        381      0.675      0.535      0.542      0.276\n",
      "\n",
      "      Epoch    GPU_mem   box_loss   obj_loss   cls_loss  Instances       Size\n",
      "      17/29      7.44G    0.03635    0.01056          0         36        640: 100%|██████████| 212/212 [03:06<00:00,  \n",
      "                 Class     Images  Instances          P          R      mAP50   mAP50-95: 100%|██████████| 10/10 [00:08\n",
      "                   all        159        381      0.749      0.514      0.555      0.277\n",
      "\n",
      "      Epoch    GPU_mem   box_loss   obj_loss   cls_loss  Instances       Size\n",
      "      18/29      7.44G     0.0349    0.01052          0         36        640: 100%|██████████| 212/212 [01:52<00:00,  \n",
      "                 Class     Images  Instances          P          R      mAP50   mAP50-95: 100%|██████████| 10/10 [00:03\n",
      "                   all        159        381      0.738      0.546       0.56      0.288\n",
      "\n",
      "      Epoch    GPU_mem   box_loss   obj_loss   cls_loss  Instances       Size\n",
      "      19/29      7.44G    0.03482    0.01024          0         61        640: 100%|██████████| 212/212 [01:45<00:00,  \n",
      "                 Class     Images  Instances          P          R      mAP50   mAP50-95: 100%|██████████| 10/10 [00:05\n",
      "                   all        159        381       0.68      0.554      0.532      0.279\n",
      "\n",
      "      Epoch    GPU_mem   box_loss   obj_loss   cls_loss  Instances       Size\n",
      "      20/29      7.44G    0.03364   0.009955          0         38        640: 100%|██████████| 212/212 [01:51<00:00,  \n",
      "                 Class     Images  Instances          P          R      mAP50   mAP50-95: 100%|██████████| 10/10 [00:04\n",
      "                   all        159        381      0.695      0.562      0.563      0.292\n",
      "\n",
      "      Epoch    GPU_mem   box_loss   obj_loss   cls_loss  Instances       Size\n",
      "      21/29      7.44G    0.03314   0.009635          0         34        640: 100%|██████████| 212/212 [01:48<00:00,  \n",
      "                 Class     Images  Instances          P          R      mAP50   mAP50-95: 100%|██████████| 10/10 [00:03\n",
      "                   all        159        381      0.673      0.584      0.561      0.285\n",
      "\n",
      "      Epoch    GPU_mem   box_loss   obj_loss   cls_loss  Instances       Size\n",
      "      22/29      7.44G    0.03282    0.01025          0         38        640: 100%|██████████| 212/212 [01:53<00:00,  \n",
      "                 Class     Images  Instances          P          R      mAP50   mAP50-95: 100%|██████████| 10/10 [00:03\n",
      "                   all        159        381      0.688      0.561      0.552      0.274\n",
      "\n",
      "      Epoch    GPU_mem   box_loss   obj_loss   cls_loss  Instances       Size\n",
      "      23/29      7.44G    0.03176   0.009646          0         33        640: 100%|██████████| 212/212 [01:45<00:00,  \n",
      "                 Class     Images  Instances          P          R      mAP50   mAP50-95: 100%|██████████| 10/10 [00:04\n",
      "                   all        159        381      0.729      0.572      0.561      0.285\n",
      "\n",
      "      Epoch    GPU_mem   box_loss   obj_loss   cls_loss  Instances       Size\n"
     ]
    },
    {
     "name": "stderr",
     "output_type": "stream",
     "text": [
      "      24/29      7.47G    0.03167   0.009512          0         28        640: 100%|██████████| 212/212 [01:50<00:00,  \n",
      "                 Class     Images  Instances          P          R      mAP50   mAP50-95: 100%|██████████| 10/10 [00:04\n",
      "                   all        159        381      0.711      0.564      0.563      0.293\n",
      "\n",
      "      Epoch    GPU_mem   box_loss   obj_loss   cls_loss  Instances       Size\n",
      "      25/29      7.47G    0.03129   0.009295          0         21        640: 100%|██████████| 212/212 [01:47<00:00,  \n",
      "                 Class     Images  Instances          P          R      mAP50   mAP50-95: 100%|██████████| 10/10 [00:03\n",
      "                   all        159        381      0.698       0.58      0.569      0.296\n",
      "\n",
      "      Epoch    GPU_mem   box_loss   obj_loss   cls_loss  Instances       Size\n",
      "      26/29      7.47G    0.02991   0.009181          0         17        640: 100%|██████████| 212/212 [01:56<00:00,  \n",
      "                 Class     Images  Instances          P          R      mAP50   mAP50-95: 100%|██████████| 10/10 [00:03\n",
      "                   all        159        381      0.698       0.57      0.554      0.277\n",
      "\n",
      "      Epoch    GPU_mem   box_loss   obj_loss   cls_loss  Instances       Size\n",
      "      27/29      7.47G    0.03014    0.00929          0         35        640: 100%|██████████| 212/212 [01:50<00:00,  \n",
      "                 Class     Images  Instances          P          R      mAP50   mAP50-95: 100%|██████████| 10/10 [00:03\n",
      "                   all        159        381      0.696      0.614      0.584      0.298\n",
      "\n",
      "      Epoch    GPU_mem   box_loss   obj_loss   cls_loss  Instances       Size\n",
      "      28/29      7.47G    0.02962   0.009238          0         27        640: 100%|██████████| 212/212 [01:48<00:00,  \n",
      "                 Class     Images  Instances          P          R      mAP50   mAP50-95: 100%|██████████| 10/10 [00:03\n",
      "                   all        159        381      0.742      0.582      0.591      0.304\n",
      "\n",
      "      Epoch    GPU_mem   box_loss   obj_loss   cls_loss  Instances       Size\n",
      "      29/29      7.47G    0.02925   0.008955          0         31        640: 100%|██████████| 212/212 [01:46<00:00,  \n",
      "                 Class     Images  Instances          P          R      mAP50   mAP50-95: 100%|██████████| 10/10 [00:03\n",
      "                   all        159        381      0.749      0.579      0.584      0.305\n",
      "\n",
      "30 epochs completed in 1.215 hours.\n",
      "Optimizer stripped from SARImgv4-1\\retrain_yolov5x_size640_epochs30_batch8\\weights\\last.pt, 173.1MB\n",
      "Optimizer stripped from SARImgv4-1\\retrain_yolov5x_size640_epochs30_batch8\\weights\\best.pt, 173.1MB\n",
      "\n",
      "Validating SARImgv4-1\\retrain_yolov5x_size640_epochs30_batch8\\weights\\best.pt...\n",
      "Fusing layers... \n",
      "Model summary: 322 layers, 86173414 parameters, 0 gradients, 203.8 GFLOPs\n",
      "                 Class     Images  Instances          P          R      mAP50   mAP50-95: 100%|██████████| 10/10 [00:04\n",
      "                   all        159        381      0.703      0.601      0.591      0.304\n",
      "Results saved to \u001b[1mSARImgv4-1\\retrain_yolov5x_size640_epochs30_batch8\u001b[0m\n"
     ]
    }
   ],
   "source": [
    "%run ../train.py --img {SIZE}\\\n",
    "               --batch {BATCH_SIZE}\\\n",
    "               --epochs {EPOCHS}\\\n",
    "               --data C:/Users/Ilya/Documents/dataset/SARImgv4-1/data.yaml\\\n",
    "               --weights {MODEL}\\\n",
    "               --workers {WORKERS}\\\n",
    "               --project {PROJECT}\\\n",
    "               --name {RUN_NAME}\\\n",
    "               --device {DEVICE}\\\n",
    "               --cache\n",
    "               #--exist-ok  Дотренировка"
   ]
  },
  {
   "cell_type": "code",
   "execution_count": 17,
   "id": "f2a83b06",
   "metadata": {},
   "outputs": [
    {
     "data": {
      "text/plain": [
       "0"
      ]
     },
     "execution_count": 17,
     "metadata": {},
     "output_type": "execute_result"
    }
   ],
   "source": [
    "torch.cuda.max_memory_allocated()"
   ]
  },
  {
   "cell_type": "code",
   "execution_count": 18,
   "id": "0dd68e34",
   "metadata": {},
   "outputs": [
    {
     "data": {
      "text/plain": [
       "'|===========================================================================|\\n|                  PyTorch CUDA memory summary, device ID 0                 |\\n|---------------------------------------------------------------------------|\\n|            CUDA OOMs: 0            |        cudaMalloc retries: 0         |\\n|===========================================================================|\\n|        Metric         | Cur Usage  | Peak Usage | Tot Alloc  | Tot Freed  |\\n|---------------------------------------------------------------------------|\\n| Allocated memory      |      0 B   |      0 B   |      0 B   |      0 B   |\\n|       from large pool |      0 B   |      0 B   |      0 B   |      0 B   |\\n|       from small pool |      0 B   |      0 B   |      0 B   |      0 B   |\\n|---------------------------------------------------------------------------|\\n| Active memory         |      0 B   |      0 B   |      0 B   |      0 B   |\\n|       from large pool |      0 B   |      0 B   |      0 B   |      0 B   |\\n|       from small pool |      0 B   |      0 B   |      0 B   |      0 B   |\\n|---------------------------------------------------------------------------|\\n| Requested memory      |      0 B   |      0 B   |      0 B   |      0 B   |\\n|       from large pool |      0 B   |      0 B   |      0 B   |      0 B   |\\n|       from small pool |      0 B   |      0 B   |      0 B   |      0 B   |\\n|---------------------------------------------------------------------------|\\n| GPU reserved memory   |      0 B   |      0 B   |      0 B   |      0 B   |\\n|       from large pool |      0 B   |      0 B   |      0 B   |      0 B   |\\n|       from small pool |      0 B   |      0 B   |      0 B   |      0 B   |\\n|---------------------------------------------------------------------------|\\n| Non-releasable memory |      0 B   |      0 B   |      0 B   |      0 B   |\\n|       from large pool |      0 B   |      0 B   |      0 B   |      0 B   |\\n|       from small pool |      0 B   |      0 B   |      0 B   |      0 B   |\\n|---------------------------------------------------------------------------|\\n| Allocations           |       0    |       0    |       0    |       0    |\\n|       from large pool |       0    |       0    |       0    |       0    |\\n|       from small pool |       0    |       0    |       0    |       0    |\\n|---------------------------------------------------------------------------|\\n| Active allocs         |       0    |       0    |       0    |       0    |\\n|       from large pool |       0    |       0    |       0    |       0    |\\n|       from small pool |       0    |       0    |       0    |       0    |\\n|---------------------------------------------------------------------------|\\n| GPU reserved segments |       0    |       0    |       0    |       0    |\\n|       from large pool |       0    |       0    |       0    |       0    |\\n|       from small pool |       0    |       0    |       0    |       0    |\\n|---------------------------------------------------------------------------|\\n| Non-releasable allocs |       0    |       0    |       0    |       0    |\\n|       from large pool |       0    |       0    |       0    |       0    |\\n|       from small pool |       0    |       0    |       0    |       0    |\\n|---------------------------------------------------------------------------|\\n| Oversize allocations  |       0    |       0    |       0    |       0    |\\n|---------------------------------------------------------------------------|\\n| Oversize GPU segments |       0    |       0    |       0    |       0    |\\n|===========================================================================|\\n'"
      ]
     },
     "execution_count": 18,
     "metadata": {},
     "output_type": "execute_result"
    }
   ],
   "source": [
    "torch.cuda.memory_summary(device=None, abbreviated=False)"
   ]
  }
 ],
 "metadata": {
  "kernelspec": {
   "display_name": "venv",
   "language": "python",
   "name": "venv"
  },
  "language_info": {
   "codemirror_mode": {
    "name": "ipython",
    "version": 3
   },
   "file_extension": ".py",
   "mimetype": "text/x-python",
   "name": "python",
   "nbconvert_exporter": "python",
   "pygments_lexer": "ipython3",
   "version": "3.11.4"
  }
 },
 "nbformat": 4,
 "nbformat_minor": 5
}
